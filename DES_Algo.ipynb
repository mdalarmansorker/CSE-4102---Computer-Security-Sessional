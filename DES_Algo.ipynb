{
  "nbformat": 4,
  "nbformat_minor": 0,
  "metadata": {
    "colab": {
      "provenance": [],
      "authorship_tag": "ABX9TyO5j4siJiDDf8jgao24c9pV"
    },
    "kernelspec": {
      "name": "python3",
      "display_name": "Python 3"
    },
    "language_info": {
      "name": "python"
    }
  },
  "cells": [
    {
      "cell_type": "code",
      "execution_count": 9,
      "metadata": {
        "colab": {
          "base_uri": "https://localhost:8080/"
        },
        "id": "N987ypO-D4C0",
        "outputId": "d06cdb32-d249-4c12-c4d1-0de88a210456"
      },
      "outputs": [
        {
          "output_type": "stream",
          "name": "stdout",
          "text": [
            "Looking in indexes: https://pypi.org/simple, https://us-python.pkg.dev/colab-wheels/public/simple/\n",
            "Requirement already satisfied: pycryptodome in /usr/local/lib/python3.9/dist-packages (3.17)\n"
          ]
        }
      ],
      "source": [
        "!pip install pycryptodome\n",
        "from Crypto.Cipher import DES\n",
        "from secrets import token_bytes"
      ]
    },
    {
      "cell_type": "code",
      "source": [
        "def get_key():\n",
        "  key = token_bytes(8)\n",
        "  print(\"Key is {key}\")\n",
        "  return key"
      ],
      "metadata": {
        "id": "XZd8lQxBD_n8"
      },
      "execution_count": 10,
      "outputs": []
    },
    {
      "cell_type": "code",
      "source": [
        "def encrypt(msg, key):\n",
        "  cipher = DES.new(key, DES.MODE_EAX)\n",
        "  nonce = cipher.nonce\n",
        "  cipher_text, tag = cipher.encrypt_and_digest(msg.encode('ascii'))\n",
        "  return cipher_text, tag,nonce "
      ],
      "metadata": {
        "id": "1ZugIgioEFf5"
      },
      "execution_count": 11,
      "outputs": []
    },
    {
      "cell_type": "code",
      "source": [
        "def decrypt(ct, key,nonce, tag):\n",
        "  cipher = DES.new(key, DES.MODE_EAX, nonce = nonce)\n",
        "  plain_text = cipher.decrypt(ct)\n",
        "  return plain_text"
      ],
      "metadata": {
        "id": "kEZxFC-yNHMt"
      },
      "execution_count": 15,
      "outputs": []
    },
    {
      "cell_type": "code",
      "source": [
        "from pickleshare import print_function\n",
        "msg = input(\"Inter the plain text: \")\n",
        "key = get_key()\n",
        "ct, tg, nc = encrypt(msg, key)\n",
        "print(f\"Plaintext: {msg} \\nCipherTex: {ct}\")"
      ],
      "metadata": {
        "colab": {
          "base_uri": "https://localhost:8080/"
        },
        "id": "SeBbObhwE8BR",
        "outputId": "ec91e2fb-dbc8-4a67-b0d2-fd728dfc921f"
      },
      "execution_count": 16,
      "outputs": [
        {
          "output_type": "stream",
          "name": "stdout",
          "text": [
            "Inter the plain text: hello world\n",
            "Key is {key}\n",
            "Plaintext: hello world \n",
            "CipherTex: b'\\x1b\\xecf\\xa9\\xed\\x91\\xd9\\xf1#\\xe6A'\n"
          ]
        }
      ]
    },
    {
      "cell_type": "code",
      "source": [
        "decrypt(ct, key, nc, tg)"
      ],
      "metadata": {
        "colab": {
          "base_uri": "https://localhost:8080/"
        },
        "id": "l-QazmM6NKUJ",
        "outputId": "3bc7b261-e969-4221-f02d-0f9717eb2ad2"
      },
      "execution_count": 17,
      "outputs": [
        {
          "output_type": "execute_result",
          "data": {
            "text/plain": [
              "b'hello world'"
            ]
          },
          "metadata": {},
          "execution_count": 17
        }
      ]
    }
  ]
}